{
 "cells": [
  {
   "cell_type": "markdown",
   "metadata": {},
   "source": [
    "# Store Data ETL\n",
    "## Extract, clean and load store data to sales DB in SQL"
   ]
  },
  {
   "cell_type": "code",
   "execution_count": 1,
   "metadata": {},
   "outputs": [],
   "source": [
    "import sys\n",
    "sys.path.append('/Users/ronakasher/Deepa/multinational_retail_data_centralisation')"
   ]
  },
  {
   "cell_type": "code",
   "execution_count": 2,
   "metadata": {},
   "outputs": [],
   "source": [
    "from source_code.database_utils import DatabaseConnector\n",
    "from source_code.data_extraction import DataExtractor\n",
    "from source_code.data_cleaning import DataCleaning\n",
    "from source_code.data_extraction import header\n",
    "import pandas as pd\n",
    "import requests"
   ]
  },
  {
   "cell_type": "markdown",
   "metadata": {},
   "source": [
    "## Extract store data from API using DataExtractor class in source code"
   ]
  },
  {
   "cell_type": "code",
   "execution_count": 3,
   "metadata": {},
   "outputs": [
    {
     "name": "stdout",
     "output_type": "stream",
     "text": [
      "Number of stores: 451\n"
     ]
    }
   ],
   "source": [
    "#List number of stores in store data\n",
    "extractor = DataExtractor()\n",
    "number_of_stores_endpoint = 'https://aqj7u5id95.execute-api.eu-west-1.amazonaws.com/prod/number_stores'\n",
    "number_of_stores = extractor.list_number_of_stores(number_of_stores_endpoint,header)"
   ]
  },
  {
   "cell_type": "code",
   "execution_count": 4,
   "metadata": {},
   "outputs": [],
   "source": [
    "#Extract store data saving as Dataframe\n",
    "store_endpoint = 'https://aqj7u5id95.execute-api.eu-west-1.amazonaws.com/prod/store_details/'\n",
    "store_data = extractor.retrieve_stores_data(store_endpoint,number_of_stores,header)\n",
    "store_data.sample(20)"
   ]
  },
  {
   "cell_type": "markdown",
   "metadata": {},
   "source": [
    "## Clean store data using DataCleaning class in source code"
   ]
  },
  {
   "cell_type": "code",
   "execution_count": 5,
   "metadata": {},
   "outputs": [
    {
     "name": "stdout",
     "output_type": "stream",
     "text": [
      "<class 'pandas.core.frame.DataFrame'>\n",
      "Index: 448 entries, 0 to 449\n",
      "Data columns (total 10 columns):\n",
      " #   Column         Non-Null Count  Dtype \n",
      "---  ------         --------------  ----- \n",
      " 0   address        440 non-null    object\n",
      " 1   longitude      440 non-null    string\n",
      " 2   locality       440 non-null    object\n",
      " 3   store_code     440 non-null    string\n",
      " 4   staff_numbers  448 non-null    int64 \n",
      " 5   opening_date   440 non-null    object\n",
      " 6   store_type     440 non-null    string\n",
      " 7   latitude       440 non-null    string\n",
      " 8   country_code   440 non-null    string\n",
      " 9   continent      440 non-null    string\n",
      "dtypes: int64(1), object(3), string(6)\n",
      "memory usage: 38.5+ KB\n"
     ]
    }
   ],
   "source": [
    "#Clean store data\n",
    "clean_store_data = DataCleaning().clean_store_data(store_data)"
   ]
  },
  {
   "cell_type": "code",
   "execution_count": 6,
   "metadata": {},
   "outputs": [
    {
     "name": "stdout",
     "output_type": "stream",
     "text": [
      "<class 'pandas.core.frame.DataFrame'>\n",
      "Index: 448 entries, 0 to 449\n",
      "Data columns (total 10 columns):\n",
      " #   Column         Non-Null Count  Dtype \n",
      "---  ------         --------------  ----- \n",
      " 0   address        440 non-null    object\n",
      " 1   longitude      440 non-null    string\n",
      " 2   locality       440 non-null    object\n",
      " 3   store_code     440 non-null    string\n",
      " 4   staff_numbers  448 non-null    int64 \n",
      " 5   opening_date   440 non-null    object\n",
      " 6   store_type     440 non-null    string\n",
      " 7   latitude       440 non-null    string\n",
      " 8   country_code   440 non-null    string\n",
      " 9   continent      440 non-null    string\n",
      "dtypes: int64(1), object(3), string(6)\n",
      "memory usage: 38.5+ KB\n"
     ]
    }
   ],
   "source": [
    "#Remove Null rows in cleaned data\n",
    "clean_store_data.dropna(how='all')\n",
    "clean_store_data.info()"
   ]
  },
  {
   "cell_type": "markdown",
   "metadata": {},
   "source": [
    "## Upload to SQL sales DB"
   ]
  },
  {
   "cell_type": "code",
   "execution_count": 7,
   "metadata": {},
   "outputs": [
    {
     "data": {
      "text/plain": [
       "448"
      ]
     },
     "execution_count": 7,
     "metadata": {},
     "output_type": "execute_result"
    }
   ],
   "source": [
    "#Upload to sales_data DB (SQL)\n",
    "upload = DatabaseConnector('../db_creds.yaml')\n",
    "upload.upload_to_db(clean_store_data,'dim_store_details')"
   ]
  }
 ],
 "metadata": {
  "kernelspec": {
   "display_name": "base",
   "language": "python",
   "name": "python3"
  },
  "language_info": {
   "codemirror_mode": {
    "name": "ipython",
    "version": 3
   },
   "file_extension": ".py",
   "mimetype": "text/x-python",
   "name": "python",
   "nbconvert_exporter": "python",
   "pygments_lexer": "ipython3",
   "version": "3.11.4"
  }
 },
 "nbformat": 4,
 "nbformat_minor": 2
}
