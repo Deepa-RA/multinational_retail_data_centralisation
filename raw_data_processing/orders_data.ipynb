{
 "cells": [
  {
   "cell_type": "markdown",
   "metadata": {},
   "source": [
    "# Orders Data ETL\n",
    "## Extract, clean and load orders data to SQL Sales database"
   ]
  },
  {
   "cell_type": "code",
   "execution_count": 8,
   "metadata": {},
   "outputs": [],
   "source": [
    "import sys\n",
    "sys.path.append('/Users/ronakasher/Deepa/multinational_retail_data_centralisation')"
   ]
  },
  {
   "cell_type": "code",
   "execution_count": 9,
   "metadata": {},
   "outputs": [],
   "source": [
    "from source_code.database_utils import DatabaseConnector\n",
    "from source_code.data_extraction import DataExtractor\n",
    "from source_code.data_cleaning import DataCleaning\n",
    "import pandas as pd"
   ]
  },
  {
   "cell_type": "markdown",
   "metadata": {},
   "source": [
    "## Extract data from SQLAlchemy DB using yaml credentials file"
   ]
  },
  {
   "cell_type": "code",
   "execution_count": 10,
   "metadata": {},
   "outputs": [],
   "source": [
    "# Read credentials from yaml file and return dictionary of credentials\n",
    "connector = DatabaseConnector('../db_creds.yaml')\n",
    "db_creds = connector.read_db_creds()"
   ]
  },
  {
   "cell_type": "code",
   "execution_count": 11,
   "metadata": {},
   "outputs": [],
   "source": [
    "#Initialise and return sqlalchemy db engine\n",
    "db_engine = connector.init_db_engine()"
   ]
  },
  {
   "cell_type": "code",
   "execution_count": 12,
   "metadata": {},
   "outputs": [
    {
     "name": "stdout",
     "output_type": "stream",
     "text": [
      "['legacy_store_details', 'legacy_users', 'orders_table']\n"
     ]
    }
   ],
   "source": [
    "#List all tables in DB\n",
    "table_list = connector.list_db_tables()\n",
    "print(table_list)"
   ]
  },
  {
   "cell_type": "code",
   "execution_count": 13,
   "metadata": {},
   "outputs": [
    {
     "data": {
      "text/html": [
       "<div>\n",
       "<style scoped>\n",
       "    .dataframe tbody tr th:only-of-type {\n",
       "        vertical-align: middle;\n",
       "    }\n",
       "\n",
       "    .dataframe tbody tr th {\n",
       "        vertical-align: top;\n",
       "    }\n",
       "\n",
       "    .dataframe thead th {\n",
       "        text-align: right;\n",
       "    }\n",
       "</style>\n",
       "<table border=\"1\" class=\"dataframe\">\n",
       "  <thead>\n",
       "    <tr style=\"text-align: right;\">\n",
       "      <th></th>\n",
       "      <th>level_0</th>\n",
       "      <th>date_uuid</th>\n",
       "      <th>first_name</th>\n",
       "      <th>last_name</th>\n",
       "      <th>user_uuid</th>\n",
       "      <th>card_number</th>\n",
       "      <th>store_code</th>\n",
       "      <th>product_code</th>\n",
       "      <th>1</th>\n",
       "      <th>product_quantity</th>\n",
       "    </tr>\n",
       "    <tr>\n",
       "      <th>index</th>\n",
       "      <th></th>\n",
       "      <th></th>\n",
       "      <th></th>\n",
       "      <th></th>\n",
       "      <th></th>\n",
       "      <th></th>\n",
       "      <th></th>\n",
       "      <th></th>\n",
       "      <th></th>\n",
       "      <th></th>\n",
       "    </tr>\n",
       "  </thead>\n",
       "  <tbody>\n",
       "    <tr>\n",
       "      <th>44194</th>\n",
       "      <td>44195</td>\n",
       "      <td>d0e9ba4c-d042-400b-a78b-5e2a4cfc3b1f</td>\n",
       "      <td>None</td>\n",
       "      <td>None</td>\n",
       "      <td>7552fc75-8225-4574-a4b9-3b1919877439</td>\n",
       "      <td>4934395476359340</td>\n",
       "      <td>WA-A34BF06C</td>\n",
       "      <td>H3-2127985Z</td>\n",
       "      <td>NaN</td>\n",
       "      <td>3</td>\n",
       "    </tr>\n",
       "    <tr>\n",
       "      <th>14852</th>\n",
       "      <td>14855</td>\n",
       "      <td>93f59ae4-73b2-410d-80c4-40dc6ce5ffe8</td>\n",
       "      <td>None</td>\n",
       "      <td>None</td>\n",
       "      <td>d4a46d93-f2a2-43c9-9a3f-577a6d584d7b</td>\n",
       "      <td>180030667993421</td>\n",
       "      <td>CH-7638016B</td>\n",
       "      <td>s8-877456Y</td>\n",
       "      <td>NaN</td>\n",
       "      <td>6</td>\n",
       "    </tr>\n",
       "    <tr>\n",
       "      <th>32938</th>\n",
       "      <td>32938</td>\n",
       "      <td>5b436b6a-e90a-45a4-b61f-4358767cb22b</td>\n",
       "      <td>Jeffrey</td>\n",
       "      <td>Summers</td>\n",
       "      <td>367fc06f-1c81-4da8-a4bd-60787eaffbb3</td>\n",
       "      <td>340533893910728</td>\n",
       "      <td>WEB-1388012W</td>\n",
       "      <td>M6-0249525F</td>\n",
       "      <td>NaN</td>\n",
       "      <td>2</td>\n",
       "    </tr>\n",
       "    <tr>\n",
       "      <th>90200</th>\n",
       "      <td>90200</td>\n",
       "      <td>2b568e0a-382a-49ee-8cae-6f34fb9068b3</td>\n",
       "      <td>None</td>\n",
       "      <td>None</td>\n",
       "      <td>ea736703-8199-46b1-9671-8a1b57b8bce7</td>\n",
       "      <td>3573569511985860</td>\n",
       "      <td>CO-D819CC5E</td>\n",
       "      <td>v0-0322422o</td>\n",
       "      <td>NaN</td>\n",
       "      <td>1</td>\n",
       "    </tr>\n",
       "    <tr>\n",
       "      <th>86078</th>\n",
       "      <td>86078</td>\n",
       "      <td>a1d2a3dc-7551-4d47-a058-1ff04b8afd17</td>\n",
       "      <td>None</td>\n",
       "      <td>None</td>\n",
       "      <td>19dfc15d-4d78-41c7-9841-852538234927</td>\n",
       "      <td>502037895435</td>\n",
       "      <td>RU-F0666E4B</td>\n",
       "      <td>n7-0111416g</td>\n",
       "      <td>NaN</td>\n",
       "      <td>4</td>\n",
       "    </tr>\n",
       "    <tr>\n",
       "      <th>...</th>\n",
       "      <td>...</td>\n",
       "      <td>...</td>\n",
       "      <td>...</td>\n",
       "      <td>...</td>\n",
       "      <td>...</td>\n",
       "      <td>...</td>\n",
       "      <td>...</td>\n",
       "      <td>...</td>\n",
       "      <td>...</td>\n",
       "      <td>...</td>\n",
       "    </tr>\n",
       "    <tr>\n",
       "      <th>85285</th>\n",
       "      <td>85285</td>\n",
       "      <td>24404085-206c-4850-935e-9626b8d6d5a5</td>\n",
       "      <td>None</td>\n",
       "      <td>None</td>\n",
       "      <td>773d977a-a55b-4a23-b958-ee0231d62c56</td>\n",
       "      <td>3542045162976040</td>\n",
       "      <td>SC-ADA59883</td>\n",
       "      <td>I2-9044234M</td>\n",
       "      <td>NaN</td>\n",
       "      <td>3</td>\n",
       "    </tr>\n",
       "    <tr>\n",
       "      <th>33426</th>\n",
       "      <td>33426</td>\n",
       "      <td>3deb6447-3b02-48e0-9e28-1f4e9695701a</td>\n",
       "      <td>None</td>\n",
       "      <td>None</td>\n",
       "      <td>b350f474-13ab-4cfb-b6cb-56d07d04336d</td>\n",
       "      <td>2581120450492200</td>\n",
       "      <td>ST-10F19C97</td>\n",
       "      <td>Q9-2687893d</td>\n",
       "      <td>NaN</td>\n",
       "      <td>7</td>\n",
       "    </tr>\n",
       "    <tr>\n",
       "      <th>115342</th>\n",
       "      <td>115342</td>\n",
       "      <td>58546578-c68d-4741-931b-0df2959f980e</td>\n",
       "      <td>None</td>\n",
       "      <td>None</td>\n",
       "      <td>dfa1884a-bc09-4d4c-a1a0-52cc92ffe3bc</td>\n",
       "      <td>3582852121965810</td>\n",
       "      <td>IN-E47115F0</td>\n",
       "      <td>m0-090471z</td>\n",
       "      <td>NaN</td>\n",
       "      <td>1</td>\n",
       "    </tr>\n",
       "    <tr>\n",
       "      <th>112479</th>\n",
       "      <td>112479</td>\n",
       "      <td>13cf7a5c-72dd-476f-8676-3b4c59dfcb0b</td>\n",
       "      <td>None</td>\n",
       "      <td>None</td>\n",
       "      <td>4c87ab1e-1dbf-46ac-9b39-d2711b4eb746</td>\n",
       "      <td>639051773773</td>\n",
       "      <td>FA-6A7ABBAD</td>\n",
       "      <td>V0-463637X</td>\n",
       "      <td>NaN</td>\n",
       "      <td>6</td>\n",
       "    </tr>\n",
       "    <tr>\n",
       "      <th>16861</th>\n",
       "      <td>16861</td>\n",
       "      <td>63a0022b-b43d-4e35-8a8c-7bb08c817321</td>\n",
       "      <td>None</td>\n",
       "      <td>None</td>\n",
       "      <td>211b1794-102f-4518-ab09-54a630e3dddd</td>\n",
       "      <td>4794963312836730</td>\n",
       "      <td>WA-905645E6</td>\n",
       "      <td>b5-5777732h</td>\n",
       "      <td>NaN</td>\n",
       "      <td>3</td>\n",
       "    </tr>\n",
       "  </tbody>\n",
       "</table>\n",
       "<p>100 rows × 10 columns</p>\n",
       "</div>"
      ],
      "text/plain": [
       "        level_0                             date_uuid first_name last_name  \\\n",
       "index                                                                        \n",
       "44194     44195  d0e9ba4c-d042-400b-a78b-5e2a4cfc3b1f       None      None   \n",
       "14852     14855  93f59ae4-73b2-410d-80c4-40dc6ce5ffe8       None      None   \n",
       "32938     32938  5b436b6a-e90a-45a4-b61f-4358767cb22b    Jeffrey   Summers   \n",
       "90200     90200  2b568e0a-382a-49ee-8cae-6f34fb9068b3       None      None   \n",
       "86078     86078  a1d2a3dc-7551-4d47-a058-1ff04b8afd17       None      None   \n",
       "...         ...                                   ...        ...       ...   \n",
       "85285     85285  24404085-206c-4850-935e-9626b8d6d5a5       None      None   \n",
       "33426     33426  3deb6447-3b02-48e0-9e28-1f4e9695701a       None      None   \n",
       "115342   115342  58546578-c68d-4741-931b-0df2959f980e       None      None   \n",
       "112479   112479  13cf7a5c-72dd-476f-8676-3b4c59dfcb0b       None      None   \n",
       "16861     16861  63a0022b-b43d-4e35-8a8c-7bb08c817321       None      None   \n",
       "\n",
       "                                   user_uuid       card_number    store_code  \\\n",
       "index                                                                          \n",
       "44194   7552fc75-8225-4574-a4b9-3b1919877439  4934395476359340   WA-A34BF06C   \n",
       "14852   d4a46d93-f2a2-43c9-9a3f-577a6d584d7b   180030667993421   CH-7638016B   \n",
       "32938   367fc06f-1c81-4da8-a4bd-60787eaffbb3   340533893910728  WEB-1388012W   \n",
       "90200   ea736703-8199-46b1-9671-8a1b57b8bce7  3573569511985860   CO-D819CC5E   \n",
       "86078   19dfc15d-4d78-41c7-9841-852538234927      502037895435   RU-F0666E4B   \n",
       "...                                      ...               ...           ...   \n",
       "85285   773d977a-a55b-4a23-b958-ee0231d62c56  3542045162976040   SC-ADA59883   \n",
       "33426   b350f474-13ab-4cfb-b6cb-56d07d04336d  2581120450492200   ST-10F19C97   \n",
       "115342  dfa1884a-bc09-4d4c-a1a0-52cc92ffe3bc  3582852121965810   IN-E47115F0   \n",
       "112479  4c87ab1e-1dbf-46ac-9b39-d2711b4eb746      639051773773   FA-6A7ABBAD   \n",
       "16861   211b1794-102f-4518-ab09-54a630e3dddd  4794963312836730   WA-905645E6   \n",
       "\n",
       "       product_code   1  product_quantity  \n",
       "index                                      \n",
       "44194   H3-2127985Z NaN                 3  \n",
       "14852    s8-877456Y NaN                 6  \n",
       "32938   M6-0249525F NaN                 2  \n",
       "90200   v0-0322422o NaN                 1  \n",
       "86078   n7-0111416g NaN                 4  \n",
       "...             ...  ..               ...  \n",
       "85285   I2-9044234M NaN                 3  \n",
       "33426   Q9-2687893d NaN                 7  \n",
       "115342   m0-090471z NaN                 1  \n",
       "112479   V0-463637X NaN                 6  \n",
       "16861   b5-5777732h NaN                 3  \n",
       "\n",
       "[100 rows x 10 columns]"
      ]
     },
     "execution_count": 13,
     "metadata": {},
     "output_type": "execute_result"
    }
   ],
   "source": [
    "#Extract user database table to pandas DataFrame\n",
    "extractor = DataExtractor()\n",
    "orders_data = extractor.read_rds_table('orders_table')\n",
    "orders_data.sample(100)"
   ]
  },
  {
   "cell_type": "markdown",
   "metadata": {},
   "source": [
    "## Clean orders data using DataCleaning class from source code - includings dropping columns first_name, last_name, 1 and level_0"
   ]
  },
  {
   "cell_type": "code",
   "execution_count": 14,
   "metadata": {},
   "outputs": [],
   "source": [
    "#Clean user data\n",
    "clean_orders_data = DataCleaning().clean_orders_data(orders_data)"
   ]
  },
  {
   "cell_type": "code",
   "execution_count": 15,
   "metadata": {},
   "outputs": [
    {
     "name": "stdout",
     "output_type": "stream",
     "text": [
      "<class 'pandas.core.frame.DataFrame'>\n",
      "Index: 120123 entries, 0 to 118804\n",
      "Data columns (total 6 columns):\n",
      " #   Column            Non-Null Count   Dtype \n",
      "---  ------            --------------   ----- \n",
      " 0   date_uuid         120123 non-null  object\n",
      " 1   user_uuid         120123 non-null  object\n",
      " 2   card_number       120123 non-null  string\n",
      " 3   store_code        120123 non-null  string\n",
      " 4   product_code      120123 non-null  string\n",
      " 5   product_quantity  120123 non-null  int8  \n",
      "dtypes: int8(1), object(2), string(3)\n",
      "memory usage: 5.6+ MB\n"
     ]
    }
   ],
   "source": [
    "#Remove Null rows in cleaned data\n",
    "clean_orders_data.dropna(how='all')\n",
    "clean_orders_data.info()"
   ]
  },
  {
   "cell_type": "markdown",
   "metadata": {},
   "source": [
    "## Upload to Sales DB in SQL"
   ]
  },
  {
   "cell_type": "code",
   "execution_count": 16,
   "metadata": {},
   "outputs": [
    {
     "data": {
      "text/plain": [
       "123"
      ]
     },
     "execution_count": 16,
     "metadata": {},
     "output_type": "execute_result"
    }
   ],
   "source": [
    "#Upload to sales_data DB (SQL)\n",
    "upload = DatabaseConnector('../db_creds.yaml')\n",
    "upload.upload_to_db(clean_orders_data,'orders_table')\n"
   ]
  }
 ],
 "metadata": {
  "kernelspec": {
   "display_name": "base",
   "language": "python",
   "name": "python3"
  },
  "language_info": {
   "codemirror_mode": {
    "name": "ipython",
    "version": 3
   },
   "file_extension": ".py",
   "mimetype": "text/x-python",
   "name": "python",
   "nbconvert_exporter": "python",
   "pygments_lexer": "ipython3",
   "version": "3.11.4"
  }
 },
 "nbformat": 4,
 "nbformat_minor": 2
}
