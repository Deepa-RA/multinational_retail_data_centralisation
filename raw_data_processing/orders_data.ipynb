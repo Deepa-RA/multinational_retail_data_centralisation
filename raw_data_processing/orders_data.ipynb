{
 "cells": [
  {
   "cell_type": "markdown",
   "metadata": {},
   "source": [
    "# Orders Data ETL\n",
    "## Extract, clean and load orders data to SQL Sales database"
   ]
  },
  {
   "cell_type": "code",
   "execution_count": 1,
   "metadata": {},
   "outputs": [],
   "source": [
    "import sys\n",
    "sys.path.append('/Users/ronakasher/Deepa/multinational_retail_data_centralisation')"
   ]
  },
  {
   "cell_type": "code",
   "execution_count": 2,
   "metadata": {},
   "outputs": [],
   "source": [
    "from source_code.database_utils import DatabaseConnector\n",
    "from source_code.data_extraction import DataExtractor\n",
    "from source_code.data_cleaning import DataCleaning\n",
    "import pandas as pd"
   ]
  },
  {
   "cell_type": "markdown",
   "metadata": {},
   "source": [
    "## Extract data from SQLAlchemy DB using yaml credentials file"
   ]
  },
  {
   "cell_type": "code",
   "execution_count": 3,
   "metadata": {},
   "outputs": [],
   "source": [
    "# Read credentials from yaml file and return dictionary of credentials\n",
    "connector = DatabaseConnector('../db_creds.yaml')\n",
    "db_creds = connector.read_db_creds()"
   ]
  },
  {
   "cell_type": "code",
   "execution_count": 4,
   "metadata": {},
   "outputs": [],
   "source": [
    "#Initialise and return sqlalchemy db engine\n",
    "db_engine = connector.init_db_engine()"
   ]
  },
  {
   "cell_type": "code",
   "execution_count": 5,
   "metadata": {},
   "outputs": [
    {
     "name": "stdout",
     "output_type": "stream",
     "text": [
      "['legacy_store_details', 'legacy_users', 'orders_table']\n"
     ]
    }
   ],
   "source": [
    "#List all tables in DB\n",
    "table_list = connector.list_db_tables()\n",
    "print(table_list)"
   ]
  },
  {
   "cell_type": "code",
   "execution_count": 6,
   "metadata": {},
   "outputs": [
    {
     "data": {
      "text/html": [
       "<div>\n",
       "<style scoped>\n",
       "    .dataframe tbody tr th:only-of-type {\n",
       "        vertical-align: middle;\n",
       "    }\n",
       "\n",
       "    .dataframe tbody tr th {\n",
       "        vertical-align: top;\n",
       "    }\n",
       "\n",
       "    .dataframe thead th {\n",
       "        text-align: right;\n",
       "    }\n",
       "</style>\n",
       "<table border=\"1\" class=\"dataframe\">\n",
       "  <thead>\n",
       "    <tr style=\"text-align: right;\">\n",
       "      <th></th>\n",
       "      <th>level_0</th>\n",
       "      <th>date_uuid</th>\n",
       "      <th>first_name</th>\n",
       "      <th>last_name</th>\n",
       "      <th>user_uuid</th>\n",
       "      <th>card_number</th>\n",
       "      <th>store_code</th>\n",
       "      <th>product_code</th>\n",
       "      <th>1</th>\n",
       "      <th>product_quantity</th>\n",
       "    </tr>\n",
       "    <tr>\n",
       "      <th>index</th>\n",
       "      <th></th>\n",
       "      <th></th>\n",
       "      <th></th>\n",
       "      <th></th>\n",
       "      <th></th>\n",
       "      <th></th>\n",
       "      <th></th>\n",
       "      <th></th>\n",
       "      <th></th>\n",
       "      <th></th>\n",
       "    </tr>\n",
       "  </thead>\n",
       "  <tbody>\n",
       "    <tr>\n",
       "      <th>43450</th>\n",
       "      <td>43450</td>\n",
       "      <td>8ceffc57-313e-4bda-ae40-d6e867d5fd80</td>\n",
       "      <td>None</td>\n",
       "      <td>None</td>\n",
       "      <td>dcd3b53a-de5c-443f-8b66-793ec3ffcb2c</td>\n",
       "      <td>4378345582062300</td>\n",
       "      <td>BR-CACF7508</td>\n",
       "      <td>t1-9172271B</td>\n",
       "      <td>NaN</td>\n",
       "      <td>3</td>\n",
       "    </tr>\n",
       "    <tr>\n",
       "      <th>12490</th>\n",
       "      <td>12490</td>\n",
       "      <td>88a2ced4-768b-4354-9c69-cbf32430be14</td>\n",
       "      <td>None</td>\n",
       "      <td>None</td>\n",
       "      <td>75f2009e-e0fb-4457-9b89-153713ea4aca</td>\n",
       "      <td>4130185890853200</td>\n",
       "      <td>TR-4E1AF636</td>\n",
       "      <td>g4-9992446T</td>\n",
       "      <td>NaN</td>\n",
       "      <td>14</td>\n",
       "    </tr>\n",
       "    <tr>\n",
       "      <th>86060</th>\n",
       "      <td>86060</td>\n",
       "      <td>184c7fa7-c16d-4d35-9f91-d2d84e8a01dd</td>\n",
       "      <td>Janko</td>\n",
       "      <td>Kreusel</td>\n",
       "      <td>908e2bd4-a3be-4f50-a92d-79cb75b568b2</td>\n",
       "      <td>180081273797946</td>\n",
       "      <td>WEB-1388012W</td>\n",
       "      <td>T0-7447903S</td>\n",
       "      <td>NaN</td>\n",
       "      <td>1</td>\n",
       "    </tr>\n",
       "    <tr>\n",
       "      <th>12491</th>\n",
       "      <td>12491</td>\n",
       "      <td>b60ffbe7-f2e4-4d1a-9740-0ee7b365dc06</td>\n",
       "      <td>None</td>\n",
       "      <td>None</td>\n",
       "      <td>a0f62626-1352-4f03-b9f8-1d23168c3ed6</td>\n",
       "      <td>3552101791030870</td>\n",
       "      <td>RA-2A22B217</td>\n",
       "      <td>o2-3674957Q</td>\n",
       "      <td>NaN</td>\n",
       "      <td>3</td>\n",
       "    </tr>\n",
       "    <tr>\n",
       "      <th>883</th>\n",
       "      <td>883</td>\n",
       "      <td>b3979741-dad0-471d-bc2b-f00613328ce3</td>\n",
       "      <td>None</td>\n",
       "      <td>None</td>\n",
       "      <td>ec4705ed-42e3-4e9f-9692-8904d9004e91</td>\n",
       "      <td>4749056042863770000</td>\n",
       "      <td>KI-DD9663C2</td>\n",
       "      <td>v1-8704395l</td>\n",
       "      <td>NaN</td>\n",
       "      <td>2</td>\n",
       "    </tr>\n",
       "    <tr>\n",
       "      <th>...</th>\n",
       "      <td>...</td>\n",
       "      <td>...</td>\n",
       "      <td>...</td>\n",
       "      <td>...</td>\n",
       "      <td>...</td>\n",
       "      <td>...</td>\n",
       "      <td>...</td>\n",
       "      <td>...</td>\n",
       "      <td>...</td>\n",
       "      <td>...</td>\n",
       "    </tr>\n",
       "    <tr>\n",
       "      <th>29035</th>\n",
       "      <td>29035</td>\n",
       "      <td>866af21b-7228-41fc-a9f5-15c2802460d3</td>\n",
       "      <td>Charles</td>\n",
       "      <td>Davies</td>\n",
       "      <td>14d68a7e-0cba-44be-93cf-351a64c07c19</td>\n",
       "      <td>4837450567392</td>\n",
       "      <td>WEB-1388012W</td>\n",
       "      <td>e6-6572733P</td>\n",
       "      <td>NaN</td>\n",
       "      <td>7</td>\n",
       "    </tr>\n",
       "    <tr>\n",
       "      <th>112912</th>\n",
       "      <td>112912</td>\n",
       "      <td>c1fb3e8b-573f-458e-9693-ef56ff249b85</td>\n",
       "      <td>None</td>\n",
       "      <td>None</td>\n",
       "      <td>e0bbd3d0-78aa-47a3-a904-9e6aa5bc59fc</td>\n",
       "      <td>3574693572783210</td>\n",
       "      <td>WEB-1388012W</td>\n",
       "      <td>r2-7003477Y</td>\n",
       "      <td>NaN</td>\n",
       "      <td>4</td>\n",
       "    </tr>\n",
       "    <tr>\n",
       "      <th>13231</th>\n",
       "      <td>13231</td>\n",
       "      <td>0dcf705b-0883-4607-a3bd-0814e12ddc1e</td>\n",
       "      <td>None</td>\n",
       "      <td>None</td>\n",
       "      <td>e70e7653-cd37-4ab6-bc5e-3f315ec7900a</td>\n",
       "      <td>639059677117</td>\n",
       "      <td>OB-7A4A9012</td>\n",
       "      <td>F1-6037791p</td>\n",
       "      <td>NaN</td>\n",
       "      <td>2</td>\n",
       "    </tr>\n",
       "    <tr>\n",
       "      <th>117197</th>\n",
       "      <td>117197</td>\n",
       "      <td>1323ef55-dc79-49c7-857f-ddbafbbce9ff</td>\n",
       "      <td>Abigail</td>\n",
       "      <td>Davies</td>\n",
       "      <td>62a0a4f5-7ef6-443e-8029-7ff4bbf8cc5f</td>\n",
       "      <td>30417356961334</td>\n",
       "      <td>WEB-1388012W</td>\n",
       "      <td>B1-5575220J</td>\n",
       "      <td>NaN</td>\n",
       "      <td>2</td>\n",
       "    </tr>\n",
       "    <tr>\n",
       "      <th>37353</th>\n",
       "      <td>37353</td>\n",
       "      <td>51d236e1-bfa4-4fd5-b00f-e029917e59c3</td>\n",
       "      <td>None</td>\n",
       "      <td>None</td>\n",
       "      <td>070f2b4b-d73c-4202-b506-84977c489c1c</td>\n",
       "      <td>5541326262708980</td>\n",
       "      <td>RA-C25EE56A</td>\n",
       "      <td>l6-2612405t</td>\n",
       "      <td>NaN</td>\n",
       "      <td>3</td>\n",
       "    </tr>\n",
       "  </tbody>\n",
       "</table>\n",
       "<p>100 rows × 10 columns</p>\n",
       "</div>"
      ],
      "text/plain": [
       "        level_0                             date_uuid first_name last_name  \\\n",
       "index                                                                        \n",
       "43450     43450  8ceffc57-313e-4bda-ae40-d6e867d5fd80       None      None   \n",
       "12490     12490  88a2ced4-768b-4354-9c69-cbf32430be14       None      None   \n",
       "86060     86060  184c7fa7-c16d-4d35-9f91-d2d84e8a01dd      Janko   Kreusel   \n",
       "12491     12491  b60ffbe7-f2e4-4d1a-9740-0ee7b365dc06       None      None   \n",
       "883         883  b3979741-dad0-471d-bc2b-f00613328ce3       None      None   \n",
       "...         ...                                   ...        ...       ...   \n",
       "29035     29035  866af21b-7228-41fc-a9f5-15c2802460d3    Charles    Davies   \n",
       "112912   112912  c1fb3e8b-573f-458e-9693-ef56ff249b85       None      None   \n",
       "13231     13231  0dcf705b-0883-4607-a3bd-0814e12ddc1e       None      None   \n",
       "117197   117197  1323ef55-dc79-49c7-857f-ddbafbbce9ff    Abigail    Davies   \n",
       "37353     37353  51d236e1-bfa4-4fd5-b00f-e029917e59c3       None      None   \n",
       "\n",
       "                                   user_uuid          card_number  \\\n",
       "index                                                               \n",
       "43450   dcd3b53a-de5c-443f-8b66-793ec3ffcb2c     4378345582062300   \n",
       "12490   75f2009e-e0fb-4457-9b89-153713ea4aca     4130185890853200   \n",
       "86060   908e2bd4-a3be-4f50-a92d-79cb75b568b2      180081273797946   \n",
       "12491   a0f62626-1352-4f03-b9f8-1d23168c3ed6     3552101791030870   \n",
       "883     ec4705ed-42e3-4e9f-9692-8904d9004e91  4749056042863770000   \n",
       "...                                      ...                  ...   \n",
       "29035   14d68a7e-0cba-44be-93cf-351a64c07c19        4837450567392   \n",
       "112912  e0bbd3d0-78aa-47a3-a904-9e6aa5bc59fc     3574693572783210   \n",
       "13231   e70e7653-cd37-4ab6-bc5e-3f315ec7900a         639059677117   \n",
       "117197  62a0a4f5-7ef6-443e-8029-7ff4bbf8cc5f       30417356961334   \n",
       "37353   070f2b4b-d73c-4202-b506-84977c489c1c     5541326262708980   \n",
       "\n",
       "          store_code product_code   1  product_quantity  \n",
       "index                                                    \n",
       "43450    BR-CACF7508  t1-9172271B NaN                 3  \n",
       "12490    TR-4E1AF636  g4-9992446T NaN                14  \n",
       "86060   WEB-1388012W  T0-7447903S NaN                 1  \n",
       "12491    RA-2A22B217  o2-3674957Q NaN                 3  \n",
       "883      KI-DD9663C2  v1-8704395l NaN                 2  \n",
       "...              ...          ...  ..               ...  \n",
       "29035   WEB-1388012W  e6-6572733P NaN                 7  \n",
       "112912  WEB-1388012W  r2-7003477Y NaN                 4  \n",
       "13231    OB-7A4A9012  F1-6037791p NaN                 2  \n",
       "117197  WEB-1388012W  B1-5575220J NaN                 2  \n",
       "37353    RA-C25EE56A  l6-2612405t NaN                 3  \n",
       "\n",
       "[100 rows x 10 columns]"
      ]
     },
     "execution_count": 6,
     "metadata": {},
     "output_type": "execute_result"
    }
   ],
   "source": [
    "#Extract user database table to pandas DataFrame\n",
    "extractor = DataExtractor()\n",
    "orders_data = extractor.read_rds_table('orders_table')\n",
    "orders_data.sample(100)"
   ]
  },
  {
   "cell_type": "markdown",
   "metadata": {},
   "source": [
    "## Clean orders data using DataCleaning class from source code - includings dropping columns first_name, last_name, 1 and level_0"
   ]
  },
  {
   "cell_type": "code",
   "execution_count": 7,
   "metadata": {},
   "outputs": [],
   "source": [
    "#Clean user data\n",
    "clean_orders_data = DataCleaning().clean_orders_data(orders_data)"
   ]
  },
  {
   "cell_type": "code",
   "execution_count": 8,
   "metadata": {},
   "outputs": [
    {
     "name": "stdout",
     "output_type": "stream",
     "text": [
      "<class 'pandas.core.frame.DataFrame'>\n",
      "Index: 120123 entries, 0 to 118804\n",
      "Data columns (total 6 columns):\n",
      " #   Column            Non-Null Count   Dtype \n",
      "---  ------            --------------   ----- \n",
      " 0   date_uuid         120123 non-null  object\n",
      " 1   user_uuid         120123 non-null  object\n",
      " 2   card_number       120123 non-null  string\n",
      " 3   store_code        120123 non-null  string\n",
      " 4   product_code      120123 non-null  string\n",
      " 5   product_quantity  120123 non-null  int8  \n",
      "dtypes: int8(1), object(2), string(3)\n",
      "memory usage: 5.6+ MB\n"
     ]
    }
   ],
   "source": [
    "#Remove Null rows in cleaned data\n",
    "clean_orders_data.dropna(how='all')\n",
    "clean_orders_data.info()"
   ]
  },
  {
   "cell_type": "markdown",
   "metadata": {},
   "source": [
    "## Upload to Sales DB in SQL"
   ]
  },
  {
   "cell_type": "code",
   "execution_count": 9,
   "metadata": {},
   "outputs": [
    {
     "data": {
      "text/plain": [
       "123"
      ]
     },
     "execution_count": 9,
     "metadata": {},
     "output_type": "execute_result"
    }
   ],
   "source": [
    "#Upload to sales_data DB (SQL)\n",
    "upload = DatabaseConnector('../db_creds.yaml')\n",
    "upload.upload_to_db(clean_orders_data,'orders_table')\n"
   ]
  }
 ],
 "metadata": {
  "kernelspec": {
   "display_name": "base",
   "language": "python",
   "name": "python3"
  },
  "language_info": {
   "codemirror_mode": {
    "name": "ipython",
    "version": 3
   },
   "file_extension": ".py",
   "mimetype": "text/x-python",
   "name": "python",
   "nbconvert_exporter": "python",
   "pygments_lexer": "ipython3",
   "version": "3.11.4"
  }
 },
 "nbformat": 4,
 "nbformat_minor": 2
}
