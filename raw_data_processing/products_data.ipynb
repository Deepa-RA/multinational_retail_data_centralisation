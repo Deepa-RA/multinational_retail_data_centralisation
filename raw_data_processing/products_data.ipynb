{
 "cells": [
  {
   "cell_type": "markdown",
   "metadata": {},
   "source": [
    "# Products Data ETL\n",
    "## Extract, clean and load user data to SQL Sales DB"
   ]
  },
  {
   "cell_type": "code",
   "execution_count": 1,
   "metadata": {},
   "outputs": [],
   "source": [
    "import sys\n",
    "sys.path.append('/Users/ronakasher/Deepa/multinational_retail_data_centralisation')"
   ]
  },
  {
   "cell_type": "code",
   "execution_count": 2,
   "metadata": {},
   "outputs": [],
   "source": [
    "from source_code.database_utils import DatabaseConnector\n",
    "from source_code.data_extraction import DataExtractor\n",
    "from source_code.data_cleaning import DataCleaning\n",
    "import pandas as pd\n",
    "import boto3"
   ]
  },
  {
   "cell_type": "markdown",
   "metadata": {},
   "source": [
    "## Extract data from AWS s3 bucket"
   ]
  },
  {
   "cell_type": "code",
   "execution_count": 3,
   "metadata": {},
   "outputs": [
    {
     "name": "stdout",
     "output_type": "stream",
     "text": [
      "<class 'pandas.core.frame.DataFrame'>\n",
      "RangeIndex: 1853 entries, 0 to 1852\n",
      "Data columns (total 9 columns):\n",
      " #   Column         Non-Null Count  Dtype \n",
      "---  ------         --------------  ----- \n",
      " 0   product_name   1849 non-null   object\n",
      " 1   product_price  1849 non-null   object\n",
      " 2   weight         1849 non-null   object\n",
      " 3   category       1849 non-null   object\n",
      " 4   EAN            1849 non-null   object\n",
      " 5   date_added     1849 non-null   object\n",
      " 6   uuid           1849 non-null   object\n",
      " 7   removed        1849 non-null   object\n",
      " 8   product_code   1849 non-null   object\n",
      "dtypes: object(9)\n",
      "memory usage: 130.4+ KB\n"
     ]
    }
   ],
   "source": [
    "#Extract data from s3 bucket on AWS\n",
    "s3_address = 's3://data-handling-public/products.csv'\n",
    "extractor = DataExtractor()\n",
    "product_data = extractor.extract_from_s3(s3_address)\n",
    "product_data.info()"
   ]
  },
  {
   "cell_type": "markdown",
   "metadata": {},
   "source": [
    "## Clean products data using DataCleaning class in source code"
   ]
  },
  {
   "cell_type": "code",
   "execution_count": 4,
   "metadata": {},
   "outputs": [],
   "source": [
    "#Clean product data, including setting weight to kg\n",
    "clean_products_data = DataCleaning().clean_products_data(product_data)"
   ]
  },
  {
   "cell_type": "code",
   "execution_count": 5,
   "metadata": {},
   "outputs": [
    {
     "name": "stdout",
     "output_type": "stream",
     "text": [
      "<class 'pandas.core.frame.DataFrame'>\n",
      "Index: 1849 entries, 0 to 1852\n",
      "Data columns (total 9 columns):\n",
      " #   Column         Non-Null Count  Dtype  \n",
      "---  ------         --------------  -----  \n",
      " 0   product_name   1849 non-null   string \n",
      " 1   product_price  1846 non-null   string \n",
      " 2   weight         1845 non-null   float64\n",
      " 3   category       1846 non-null   string \n",
      " 4   EAN            1846 non-null   string \n",
      " 5   date_added     1846 non-null   object \n",
      " 6   uuid           1846 non-null   object \n",
      " 7   removed        1846 non-null   string \n",
      " 8   product_code   1846 non-null   string \n",
      "dtypes: float64(1), object(2), string(6)\n",
      "memory usage: 144.5+ KB\n"
     ]
    }
   ],
   "source": [
    "#Remove Null rows in cleaned data\n",
    "clean_products_data.dropna(how='all')\n",
    "clean_products_data.info()"
   ]
  },
  {
   "cell_type": "markdown",
   "metadata": {},
   "source": [
    "## Upload data to sales DB"
   ]
  },
  {
   "cell_type": "code",
   "execution_count": 6,
   "metadata": {},
   "outputs": [
    {
     "data": {
      "text/plain": [
       "849"
      ]
     },
     "execution_count": 6,
     "metadata": {},
     "output_type": "execute_result"
    }
   ],
   "source": [
    "#Upload to sales_data DB (SQL)\n",
    "upload = DatabaseConnector('../db_creds.yaml')\n",
    "upload.upload_to_db(clean_products_data,'dim_products')"
   ]
  }
 ],
 "metadata": {
  "kernelspec": {
   "display_name": "base",
   "language": "python",
   "name": "python3"
  },
  "language_info": {
   "codemirror_mode": {
    "name": "ipython",
    "version": 3
   },
   "file_extension": ".py",
   "mimetype": "text/x-python",
   "name": "python",
   "nbconvert_exporter": "python",
   "pygments_lexer": "ipython3",
   "version": "3.11.4"
  }
 },
 "nbformat": 4,
 "nbformat_minor": 2
}
